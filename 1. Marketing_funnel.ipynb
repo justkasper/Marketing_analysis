{
 "cells": [
  {
   "cell_type": "markdown",
   "metadata": {},
   "source": [
    "# Пример исследования эффективности рекламы приложения\n",
    "* Расчёт ARPPU;\n",
    "* Расчёт ROAS;\n",
    "* Прогноз окупаемости рекламной кампании;\n",
    "* Построение маркетинговой воронки;\n",
    "* Сегментация пользователей.\n"
   ]
  },
  {
   "cell_type": "markdown",
   "metadata": {},
   "source": [
    "### Описание данных:\n",
    "\n",
    "Файл db.db — это файл базы данных sqlite. В базе собрана статистика по когортам пользователей мобильного приложения, привлеченных через рекламные каналы. Каждая когорта определяется тремя признаками **date, country, os**.\n",
    "В базе есть две таблички **spent** и **payments**."
   ]
  },
  {
   "cell_type": "code",
   "execution_count": 1,
   "metadata": {},
   "outputs": [],
   "source": [
    "# Импортируемые модули\n",
    "\n",
    "import sqlite3\n",
    "import os \n",
    "\n",
    "import pandas as pd\n",
    "import statsmodels.api as sm\n",
    "from statsmodels.formula.api import ols"
   ]
  },
  {
   "cell_type": "code",
   "execution_count": 2,
   "metadata": {},
   "outputs": [],
   "source": [
    "%%capture\n",
    "%load_ext sql\n",
    "%sql sqlite:///E://Practice//db.db"
   ]
  },
  {
   "cell_type": "code",
   "execution_count": 3,
   "metadata": {},
   "outputs": [
    {
     "name": "stdout",
     "output_type": "stream",
     "text": [
      " * sqlite:///E://Practice//db.db\n",
      "Done.\n"
     ]
    },
    {
     "data": {
      "text/html": [
       "<table>\n",
       "    <tr>\n",
       "        <th>date</th>\n",
       "        <th>os</th>\n",
       "        <th>country</th>\n",
       "        <th>spend</th>\n",
       "        <th>impressions</th>\n",
       "        <th>clicks</th>\n",
       "        <th>installs</th>\n",
       "    </tr>\n",
       "    <tr>\n",
       "        <td>2020-06-01</td>\n",
       "        <td>android</td>\n",
       "        <td>AD</td>\n",
       "        <td>0.02</td>\n",
       "        <td>32</td>\n",
       "        <td>2</td>\n",
       "        <td>2</td>\n",
       "    </tr>\n",
       "    <tr>\n",
       "        <td>2020-06-01</td>\n",
       "        <td>android</td>\n",
       "        <td>AE</td>\n",
       "        <td>2.73</td>\n",
       "        <td>1167</td>\n",
       "        <td>19</td>\n",
       "        <td>8</td>\n",
       "    </tr>\n",
       "    <tr>\n",
       "        <td>2020-06-01</td>\n",
       "        <td>android</td>\n",
       "        <td>AF</td>\n",
       "        <td>0.07</td>\n",
       "        <td>110</td>\n",
       "        <td>4</td>\n",
       "        <td>0</td>\n",
       "    </tr>\n",
       "    <tr>\n",
       "        <td>2020-06-01</td>\n",
       "        <td>android</td>\n",
       "        <td>AG</td>\n",
       "        <td>0.04</td>\n",
       "        <td>26</td>\n",
       "        <td>0</td>\n",
       "        <td>0</td>\n",
       "    </tr>\n",
       "    <tr>\n",
       "        <td>2020-06-01</td>\n",
       "        <td>android</td>\n",
       "        <td>AL</td>\n",
       "        <td>0.13</td>\n",
       "        <td>70</td>\n",
       "        <td>1</td>\n",
       "        <td>1</td>\n",
       "    </tr>\n",
       "</table>"
      ],
      "text/plain": [
       "[('2020-06-01', 'android', 'AD', 0.02, 32, 2, 2),\n",
       " ('2020-06-01', 'android', 'AE', 2.73, 1167, 19, 8),\n",
       " ('2020-06-01', 'android', 'AF', 0.07, 110, 4, 0),\n",
       " ('2020-06-01', 'android', 'AG', 0.04, 26, 0, 0),\n",
       " ('2020-06-01', 'android', 'AL', 0.13, 70, 1, 1)]"
      ]
     },
     "execution_count": 3,
     "metadata": {},
     "output_type": "execute_result"
    }
   ],
   "source": [
    "%%sql\n",
    "\n",
    "select * \n",
    "from spent\n",
    "limit 5;"
   ]
  },
  {
   "cell_type": "markdown",
   "metadata": {},
   "source": [
    "В табличке **spent** собраны данные о рекламных расходах, просмотрах, кликах и установках. Описание полей из таблицы **spent**:\n",
    "\n",
    "* date - дата, когда был потрачен бюджет (spend);\n",
    "* os - операционная система устройства;\n",
    "* country - страна просмотра рекламы или установки приложения;\n",
    "* spend - деньги, потраченные на рекламу;\n",
    "* impressions - количество просмотров рекламного объявления;\n",
    "* clicks - количество кликов на рекламу;\n",
    "* installs - количество установок приложения (размер когорты)."
   ]
  },
  {
   "cell_type": "code",
   "execution_count": 4,
   "metadata": {},
   "outputs": [
    {
     "name": "stdout",
     "output_type": "stream",
     "text": [
      " * sqlite:///E://Practice//db.db\n",
      "Done.\n"
     ]
    },
    {
     "data": {
      "text/html": [
       "<table>\n",
       "    <tr>\n",
       "        <th>date</th>\n",
       "        <th>ts</th>\n",
       "        <th>os</th>\n",
       "        <th>country</th>\n",
       "        <th>purchases</th>\n",
       "        <th>unique_purchases</th>\n",
       "        <th>app_revenue</th>\n",
       "    </tr>\n",
       "    <tr>\n",
       "        <td>2020-08-04</td>\n",
       "        <td>2020-08-14 04:04:06.608152</td>\n",
       "        <td>ios</td>\n",
       "        <td>US</td>\n",
       "        <td>3</td>\n",
       "        <td>2</td>\n",
       "        <td>9.97</td>\n",
       "    </tr>\n",
       "    <tr>\n",
       "        <td>2020-07-28</td>\n",
       "        <td>2020-07-29 04:03:56.516653</td>\n",
       "        <td>ios</td>\n",
       "        <td>NL</td>\n",
       "        <td>0</td>\n",
       "        <td>0</td>\n",
       "        <td>0.0</td>\n",
       "    </tr>\n",
       "    <tr>\n",
       "        <td>2020-06-14</td>\n",
       "        <td>2020-07-09 04:02:08.915834</td>\n",
       "        <td>ios</td>\n",
       "        <td>SA</td>\n",
       "        <td>8</td>\n",
       "        <td>2</td>\n",
       "        <td>33.8031</td>\n",
       "    </tr>\n",
       "    <tr>\n",
       "        <td>2020-06-10</td>\n",
       "        <td>2020-06-13 04:05:36.297502</td>\n",
       "        <td>android</td>\n",
       "        <td>IQ</td>\n",
       "        <td>0</td>\n",
       "        <td>0</td>\n",
       "        <td>0.0</td>\n",
       "    </tr>\n",
       "    <tr>\n",
       "        <td>2020-06-14</td>\n",
       "        <td>2020-06-28 04:04:59.576784</td>\n",
       "        <td>android</td>\n",
       "        <td>LB</td>\n",
       "        <td>0</td>\n",
       "        <td>0</td>\n",
       "        <td>0.0</td>\n",
       "    </tr>\n",
       "</table>"
      ],
      "text/plain": [
       "[('2020-08-04', '2020-08-14 04:04:06.608152', 'ios', 'US', 3, 2, 9.97),\n",
       " ('2020-07-28', '2020-07-29 04:03:56.516653', 'ios', 'NL', 0, 0, 0.0),\n",
       " ('2020-06-14', '2020-07-09 04:02:08.915834', 'ios', 'SA', 8, 2, 33.8031),\n",
       " ('2020-06-10', '2020-06-13 04:05:36.297502', 'android', 'IQ', 0, 0, 0.0),\n",
       " ('2020-06-14', '2020-06-28 04:04:59.576784', 'android', 'LB', 0, 0, 0.0)]"
      ]
     },
     "execution_count": 4,
     "metadata": {},
     "output_type": "execute_result"
    }
   ],
   "source": [
    "%%sql\n",
    "\n",
    "select * \n",
    "from payments\n",
    "limit 5;"
   ]
  },
  {
   "cell_type": "markdown",
   "metadata": {},
   "source": [
    "В табличке **payments** собраны данные о действиях пользователей каждой когорты после установки (с 1 по 28 день после установки). Данные собираются из трекинговой системы и записываются в таблицу в начале каждого дня. До тех пор, пока ts - date < 29 days. Описание полей из таблицы **payments**:\n",
    "\n",
    "* date - дата установки приложения\n",
    "* ts - Момент сбора данных из трекинговой системы. Пример: строку со значениями [2020-06-11 2020-07-22 08:05:22.070317 ios FR 8 3 33.77820] можно интерпретировать как \"в период с 2020-06-11 по 2020-07-22 08:05:22.070317, 3 пользователя из когорты [2020-06-11, FR, ios] совершили 8 покупок на общую сумму 33.78\".\n",
    "* os - операционная система устройства;\n",
    "* country - страна установки;\n",
    "* purchases - количество совершенных покупок в приложении;\n",
    "* unique_purchases - количество уникальных пользователей, совершивших покупку.\n",
    "* app_revenue - деньги, полученные приложением за покупку."
   ]
  },
  {
   "cell_type": "markdown",
   "metadata": {},
   "source": [
    "## ARPPU\n",
    "\n",
    "ARPPU (AVERAGE REVENUE PER PAYING USER) - отношение полученных денег к количеству уникальных покупок (пользователей) из таблицы payments, где ts - максимально."
   ]
  },
  {
   "cell_type": "code",
   "execution_count": 5,
   "metadata": {},
   "outputs": [
    {
     "name": "stdout",
     "output_type": "stream",
     "text": [
      " * sqlite:///E://Practice//db.db\n",
      "Done.\n"
     ]
    },
    {
     "data": {
      "text/html": [
       "<table>\n",
       "    <tr>\n",
       "        <th>os</th>\n",
       "        <th>ARPPU</th>\n",
       "    </tr>\n",
       "    <tr>\n",
       "        <td>android</td>\n",
       "        <td>16.97853792445534</td>\n",
       "    </tr>\n",
       "    <tr>\n",
       "        <td>ios</td>\n",
       "        <td>26.295473604467205</td>\n",
       "    </tr>\n",
       "</table>"
      ],
      "text/plain": [
       "[('android', 16.97853792445534), ('ios', 26.295473604467205)]"
      ]
     },
     "execution_count": 5,
     "metadata": {},
     "output_type": "execute_result"
    }
   ],
   "source": [
    "%%sql\n",
    "\n",
    "select os, sum(app_revenue) / sum(unique_purchases) as ARPPU  \n",
    "from payments\n",
    "    where ts in \n",
    "    (select max(ts) from payments\n",
    "     group by date, os, country)\n",
    "group by os;"
   ]
  },
  {
   "cell_type": "markdown",
   "metadata": {},
   "source": [
    "## ROAS\n",
    "ROAS (RETURN ON ADVERTISEMENT SPENT) - отношение дохода от рекламной кампании к расходам на неё.\n",
    "Так как в наших данных доходы регистрируются вплоть до 28 дня включительно, а доход считается накопительным итогом, то актуальным показателем для расчёта ROAS будет доход в последний день."
   ]
  },
  {
   "cell_type": "markdown",
   "metadata": {},
   "source": [
    "В первую очередь отберём данные, где разница между ts и date равняется 28 дням. Также проверим, какой тип join делать - есть ли нулевые записи spend при ненулевых доходах и, если такие есть - остаётся вопрос, учитывать ли их в финальном запросе."
   ]
  },
  {
   "cell_type": "code",
   "execution_count": 6,
   "metadata": {},
   "outputs": [
    {
     "name": "stdout",
     "output_type": "stream",
     "text": [
      " * sqlite:///E://Practice//db.db\n",
      "Done.\n"
     ]
    },
    {
     "data": {
      "text/html": [
       "<table>\n",
       "    <tr>\n",
       "        <th>date</th>\n",
       "        <th>ts</th>\n",
       "        <th>os</th>\n",
       "        <th>country</th>\n",
       "        <th>app_revenue</th>\n",
       "        <th>spend</th>\n",
       "    </tr>\n",
       "    <tr>\n",
       "        <td>2020-06-15</td>\n",
       "        <td>2020-07-13 04:04:05.205915</td>\n",
       "        <td>ios</td>\n",
       "        <td>SA</td>\n",
       "        <td>76.8349</td>\n",
       "        <td>None</td>\n",
       "    </tr>\n",
       "    <tr>\n",
       "        <td>2020-07-13</td>\n",
       "        <td>2020-08-10 04:04:06.726223</td>\n",
       "        <td>android</td>\n",
       "        <td>TR</td>\n",
       "        <td>22.6888</td>\n",
       "        <td>None</td>\n",
       "    </tr>\n",
       "    <tr>\n",
       "        <td>2020-06-15</td>\n",
       "        <td>2020-07-13 04:04:05.205915</td>\n",
       "        <td>android</td>\n",
       "        <td>GR</td>\n",
       "        <td>12.3555</td>\n",
       "        <td>None</td>\n",
       "    </tr>\n",
       "    <tr>\n",
       "        <td>2020-06-22</td>\n",
       "        <td>2020-07-20 04:04:06.116495</td>\n",
       "        <td>android</td>\n",
       "        <td>IE</td>\n",
       "        <td>6.7668</td>\n",
       "        <td>None</td>\n",
       "    </tr>\n",
       "    <tr>\n",
       "        <td>2020-06-15</td>\n",
       "        <td>2020-07-13 04:04:05.205915</td>\n",
       "        <td>ios</td>\n",
       "        <td>BR</td>\n",
       "        <td>14.4016</td>\n",
       "        <td>None</td>\n",
       "    </tr>\n",
       "</table>"
      ],
      "text/plain": [
       "[('2020-06-15', '2020-07-13 04:04:05.205915', 'ios', 'SA', 76.8349, None),\n",
       " ('2020-07-13', '2020-08-10 04:04:06.726223', 'android', 'TR', 22.6888, None),\n",
       " ('2020-06-15', '2020-07-13 04:04:05.205915', 'android', 'GR', 12.3555, None),\n",
       " ('2020-06-22', '2020-07-20 04:04:06.116495', 'android', 'IE', 6.7668, None),\n",
       " ('2020-06-15', '2020-07-13 04:04:05.205915', 'ios', 'BR', 14.4016, None)]"
      ]
     },
     "execution_count": 6,
     "metadata": {},
     "output_type": "execute_result"
    }
   ],
   "source": [
    "%%sql\n",
    "\n",
    "select p.date, p.ts, p.os, p.country, p.app_revenue, s.spend\n",
    "from payments p\n",
    "\n",
    "left join spent s on s.os = p.os and s.date = p.date and s.country = p.country\n",
    "where cast(JulianDay(p.ts) - JulianDay(p.date) as integer) = 28\n",
    "    and s.spend is null and app_revenue > 0\n",
    "    \n",
    "limit 5;"
   ]
  },
  {
   "cell_type": "markdown",
   "metadata": {},
   "source": [
    "Делаем итоговый запрос, который возваращает данные из таблицы payments с левым присоединением таблицы spent. Нас интересует os, месяц и отношение полученных денег к затратам на рекламную кампанию с группировкой по os и месяцам."
   ]
  },
  {
   "cell_type": "code",
   "execution_count": 7,
   "metadata": {},
   "outputs": [
    {
     "name": "stdout",
     "output_type": "stream",
     "text": [
      " * sqlite:///E://Practice//db.db\n",
      "Done.\n"
     ]
    },
    {
     "data": {
      "text/html": [
       "<table>\n",
       "    <tr>\n",
       "        <th>os</th>\n",
       "        <th>month</th>\n",
       "        <th>roas_28d</th>\n",
       "    </tr>\n",
       "    <tr>\n",
       "        <td>android</td>\n",
       "        <td>06</td>\n",
       "        <td>0.8911538182041718</td>\n",
       "    </tr>\n",
       "    <tr>\n",
       "        <td>android</td>\n",
       "        <td>07</td>\n",
       "        <td>0.6595421298710297</td>\n",
       "    </tr>\n",
       "    <tr>\n",
       "        <td>ios</td>\n",
       "        <td>06</td>\n",
       "        <td>0.8497541894836711</td>\n",
       "    </tr>\n",
       "    <tr>\n",
       "        <td>ios</td>\n",
       "        <td>07</td>\n",
       "        <td>1.187854000350659</td>\n",
       "    </tr>\n",
       "</table>"
      ],
      "text/plain": [
       "[('android', '06', 0.8911538182041718),\n",
       " ('android', '07', 0.6595421298710297),\n",
       " ('ios', '06', 0.8497541894836711),\n",
       " ('ios', '07', 1.187854000350659)]"
      ]
     },
     "execution_count": 7,
     "metadata": {},
     "output_type": "execute_result"
    }
   ],
   "source": [
    "%%sql\n",
    "\n",
    "select  p.os as os, \n",
    "        strftime('%m', p.date) as month, \n",
    "        sum(app_revenue) / sum(coalesce(spend, 0)) as roas_28d\n",
    "from payments p\n",
    "left join spent s on s.os = p.os and s.date = p.date and s.country = p.country\n",
    "where cast(JulianDay(p.ts) - JulianDay(p.date) as integer) = 28\n",
    "group by p.os, month;"
   ]
  },
  {
   "cell_type": "markdown",
   "metadata": {},
   "source": [
    "Можно было усложнить запрос и показать темп роста силами sql, однако, учитывая, что необходима запись в файл - работа с python, я сделал это вычисление в питоне."
   ]
  },
  {
   "cell_type": "markdown",
   "metadata": {},
   "source": [
    "## Прогноз ROAS\n",
    "У нас есть данные roas_28d с 1го июня по 18 июля. После 18 июля есть данные по spend и нет данных по app_revenue за полные 28 дней кампании, их и надо спрогнозировать. \n",
    "Можно выгрузить данные за имеющийся срок отдельно с группировкой по дням, построить регрессионную модель и проверить насколько день месяца и параметр spend влияют на доход. Если гипотеза, что эти параметры независимы не подтвердится, то по данным параметра spend за вторую половину июля можно будет спрогнозировать динамику параметра app_revenue."
   ]
  },
  {
   "cell_type": "markdown",
   "metadata": {},
   "source": [
    "Выгрузим данные, для которых мы можем подсчитать roas_28d с группировкой по дням и отдельно данные затрат после 18 июля."
   ]
  },
  {
   "cell_type": "code",
   "execution_count": 8,
   "metadata": {},
   "outputs": [],
   "source": [
    "# Данные с построения модели\n",
    "\n",
    "db = os.path.join('E:','Practice','db.db')\n",
    "conn = sqlite3.connect(db)\n",
    "cursor = conn.cursor()\n",
    "\n",
    "data = cursor.execute('''\n",
    "select  p.os as os, \n",
    "        strftime('%m', p.date) as month,\n",
    "        strftime('%d', p.date) as day,\n",
    "        sum(app_revenue),\n",
    "        sum(coalesce(spend, 0)) tt\n",
    "        \n",
    "from payments p\n",
    "left join spent s on s.os = p.os and s.date = p.date and s.country = p.country\n",
    "where cast(JulianDay(p.ts) - JulianDay(p.date) as integer) = 28\n",
    "group by p.os, month, day''').fetchall()\n",
    "\n",
    "# Данные с расходами после 18.07\n",
    "test = cursor.execute('''\n",
    "select os,\n",
    "       strftime('%m', date) as month,\n",
    "       strftime('%d', date) as day,\n",
    "       sum(coalesce(spend, 0))\n",
    "from spent\n",
    "where day > \"18\" and month = \"07\"\n",
    "group by os, month, day\n",
    "\n",
    "''').fetchall()"
   ]
  },
  {
   "cell_type": "code",
   "execution_count": 9,
   "metadata": {},
   "outputs": [],
   "source": [
    "# Загрузка данных в датафреймы, переименование столбцов, исправление типов данных\n",
    "\n",
    "df_main = pd.DataFrame(data)\n",
    "df_main.columns = ['os', 'month', 'day', 'app_revenue', 'spend']\n",
    "\n",
    "df_test = pd.DataFrame(test)\n",
    "df_test.columns = ['os', 'month', 'day', 'spend']\n",
    "\n",
    "df_main['month'] = df_main['month'].astype(int)\n",
    "df_main['day'] = df_main['day'].astype(int)\n",
    "df_main['app_revenue'] = df_main['app_revenue'].astype(float)\n",
    "df_main['spend'] = df_main['spend'].astype(float)\n",
    "\n",
    "df_test['month'] = df_test['month'].astype(int)\n",
    "df_test['day'] = df_test['day'].astype(int)"
   ]
  },
  {
   "cell_type": "code",
   "execution_count": 10,
   "metadata": {},
   "outputs": [],
   "source": [
    "# Разделим датасеты по платформам\n",
    "df_android = df_main[df_main['os'] == 'android']\n",
    "df_ios = df_main[df_main['os'] == 'ios']\n",
    "df_test_android = df_test[df_test['os'] == 'android']\n",
    "df_test_ios = df_test[df_test['os'] == 'ios'] "
   ]
  },
  {
   "cell_type": "code",
   "execution_count": 11,
   "metadata": {},
   "outputs": [
    {
     "name": "stdout",
     "output_type": "stream",
     "text": [
      "                            OLS Regression Results                            \n",
      "==============================================================================\n",
      "Dep. Variable:            app_revenue   R-squared:                       0.945\n",
      "Model:                            OLS   Adj. R-squared:                  0.942\n",
      "Method:                 Least Squares   F-statistic:                     318.9\n",
      "Date:                Wed, 11 Nov 2020   Prob (F-statistic):           4.71e-24\n",
      "Time:                        14:41:07   Log-Likelihood:                -267.88\n",
      "No. Observations:                  40   AIC:                             541.8\n",
      "Df Residuals:                      37   BIC:                             546.8\n",
      "Df Model:                           2                                         \n",
      "Covariance Type:            nonrobust                                         \n",
      "==============================================================================\n",
      "                 coef    std err          t      P>|t|      [0.025      0.975]\n",
      "------------------------------------------------------------------------------\n",
      "Intercept    -39.2460    120.042     -0.327      0.746    -282.475     203.983\n",
      "day           -0.0793      6.311     -0.013      0.990     -12.866      12.708\n",
      "spend          0.9149      0.052     17.693      0.000       0.810       1.020\n",
      "==============================================================================\n",
      "Omnibus:                       21.882   Durbin-Watson:                   1.917\n",
      "Prob(Omnibus):                  0.000   Jarque-Bera (JB):               44.488\n",
      "Skew:                           1.349   Prob(JB):                     2.19e-10\n",
      "Kurtosis:                       7.406   Cond. No.                     4.23e+03\n",
      "==============================================================================\n",
      "\n",
      "Notes:\n",
      "[1] Standard Errors assume that the covariance matrix of the errors is correctly specified.\n",
      "[2] The condition number is large, 4.23e+03. This might indicate that there are\n",
      "strong multicollinearity or other numerical problems.\n"
     ]
    }
   ],
   "source": [
    "# Сделаем модель для андроида\n",
    "model_android = ols('app_revenue ~ day + spend', data=df_android).fit()\n",
    "print(model_android.summary())"
   ]
  },
  {
   "cell_type": "markdown",
   "metadata": {},
   "source": [
    "Согласно модели день месяца не влияет на полученный доход от кампании (по показателям t, P), тогда как параметр spend - напрямую влияет на доход. Предупреждение о высокой степени мультиколлениарности касается показателя spend и указывает на прямую зависимость между ним и зависимой переменной. Таким образом мы можем спрогнозировать app_revenue второй половины июля с помощью имеющейся модели и данных по затратам для этого периода."
   ]
  },
  {
   "cell_type": "code",
   "execution_count": 12,
   "metadata": {},
   "outputs": [
    {
     "name": "stdout",
     "output_type": "stream",
     "text": [
      "                            OLS Regression Results                            \n",
      "==============================================================================\n",
      "Dep. Variable:            app_revenue   R-squared:                       0.945\n",
      "Model:                            OLS   Adj. R-squared:                  0.944\n",
      "Method:                 Least Squares   F-statistic:                     654.9\n",
      "Date:                Wed, 11 Nov 2020   Prob (F-statistic):           1.46e-25\n",
      "Time:                        14:41:07   Log-Likelihood:                -267.88\n",
      "No. Observations:                  40   AIC:                             539.8\n",
      "Df Residuals:                      38   BIC:                             543.1\n",
      "Df Model:                           1                                         \n",
      "Covariance Type:            nonrobust                                         \n",
      "==============================================================================\n",
      "                 coef    std err          t      P>|t|      [0.025      0.975]\n",
      "------------------------------------------------------------------------------\n",
      "Intercept    -40.6626     40.582     -1.002      0.323    -122.816      41.491\n",
      "spend          0.9154      0.036     25.592      0.000       0.843       0.988\n",
      "==============================================================================\n",
      "Omnibus:                       21.882   Durbin-Watson:                   1.916\n",
      "Prob(Omnibus):                  0.000   Jarque-Bera (JB):               44.484\n",
      "Skew:                           1.349   Prob(JB):                     2.19e-10\n",
      "Kurtosis:                       7.406   Cond. No.                     1.45e+03\n",
      "==============================================================================\n",
      "\n",
      "Notes:\n",
      "[1] Standard Errors assume that the covariance matrix of the errors is correctly specified.\n",
      "[2] The condition number is large, 1.45e+03. This might indicate that there are\n",
      "strong multicollinearity or other numerical problems.\n"
     ]
    }
   ],
   "source": [
    "# Перестроим модель без переменной 'day'\n",
    "model_android = ols('app_revenue ~ spend', data=df_android).fit()\n",
    "print(model_android.summary())"
   ]
  },
  {
   "cell_type": "code",
   "execution_count": 13,
   "metadata": {},
   "outputs": [
    {
     "name": "stdout",
     "output_type": "stream",
     "text": [
      "                            OLS Regression Results                            \n",
      "==============================================================================\n",
      "Dep. Variable:            app_revenue   R-squared:                       0.789\n",
      "Model:                            OLS   Adj. R-squared:                  0.783\n",
      "Method:                 Least Squares   F-statistic:                     130.7\n",
      "Date:                Wed, 11 Nov 2020   Prob (F-statistic):           2.29e-13\n",
      "Time:                        14:41:07   Log-Likelihood:                -275.96\n",
      "No. Observations:                  37   AIC:                             555.9\n",
      "Df Residuals:                      35   BIC:                             559.1\n",
      "Df Model:                           1                                         \n",
      "Covariance Type:            nonrobust                                         \n",
      "==============================================================================\n",
      "                 coef    std err          t      P>|t|      [0.025      0.975]\n",
      "------------------------------------------------------------------------------\n",
      "Intercept     98.7146     96.955      1.018      0.316     -98.114     295.543\n",
      "spend          0.8051      0.070     11.432      0.000       0.662       0.948\n",
      "==============================================================================\n",
      "Omnibus:                       13.243   Durbin-Watson:                   1.617\n",
      "Prob(Omnibus):                  0.001   Jarque-Bera (JB):               21.921\n",
      "Skew:                           0.820   Prob(JB):                     1.74e-05\n",
      "Kurtosis:                       6.395   Cond. No.                     1.88e+03\n",
      "==============================================================================\n",
      "\n",
      "Notes:\n",
      "[1] Standard Errors assume that the covariance matrix of the errors is correctly specified.\n",
      "[2] The condition number is large, 1.88e+03. This might indicate that there are\n",
      "strong multicollinearity or other numerical problems.\n"
     ]
    }
   ],
   "source": [
    "# Аналогично сделаем модель для ios\n",
    "model_ios = ols('app_revenue ~ spend', data=df_ios).fit()\n",
    "print(model_ios.summary())"
   ]
  },
  {
   "cell_type": "code",
   "execution_count": 14,
   "metadata": {},
   "outputs": [],
   "source": [
    "# Прогноз app_revenue по столбцу затрат\n",
    "prediction_android = model_android.get_prediction(df_test_android['spend']).summary_frame()\n",
    "prediction_ios = model_ios.get_prediction(df_test_ios['spend']).summary_frame()"
   ]
  },
  {
   "cell_type": "code",
   "execution_count": 15,
   "metadata": {},
   "outputs": [
    {
     "name": "stdout",
     "output_type": "stream",
     "text": [
      "Прогнозируемое значение roas_28d для андроид за июль: 0.7104\n",
      "Прогнозируемое значение roas_28d для ios за июль: 1.1857\n"
     ]
    }
   ],
   "source": [
    "# Итоговый roas_28d за июль по платформам, рассчитанный как отношение суммы прогноза и реального дохода в июле к аналогичным расходам\n",
    "roas_28d_android_july = (prediction_android['mean'].sum() + df_android[df_android['month'] == 7]['app_revenue'].sum()) / (df_test_android['spend'].sum() + df_android[df_android['month'] == 7]['spend'].sum())\n",
    "roas_28d_ios_july = (prediction_ios['mean'].sum() + df_ios[df_ios['month'] == 7]['app_revenue'].sum()) / (df_test_ios['spend'].sum() + df_ios[df_ios['month'] == 7]['spend'].sum())\n",
    "\n",
    "print(f'Прогнозируемое значение roas_28d для андроид за июль: {roas_28d_android_july:.4f}')\n",
    "print(f'Прогнозируемое значение roas_28d для ios за июль: {roas_28d_ios_july:.4f}')"
   ]
  },
  {
   "cell_type": "markdown",
   "metadata": {},
   "source": [
    "## Построение воронки и сегментация пользователей\n",
    "Допустим, нам нужно дать рекомендации отделу по закупке трафика. Для этого ответим на ряд вопросов:\n",
    "* какая динамика наблюдается в целом? (рекомендуем построить воронку конверсий от impression до конверсии в покупку)\n",
    "* какие сегменты имеют хорошие показатели и могут масштабироваться;\n",
    "* какие сегменты находятся в серой зоне и что можно сделать для улучшения их перфоманса;\n",
    "* какие сегменты скорее всего безнадежны и на них не стоит тратить бюджеты.\n",
    "\n",
    "` Допущение: норма roas_28d = 1.2`"
   ]
  },
  {
   "cell_type": "code",
   "execution_count": 16,
   "metadata": {},
   "outputs": [],
   "source": [
    "# Выгружаем данные из базы с преобразованием в pandas dataframe. Используем только данные с полным периодом кампании (28 дней)\n",
    "data = pd.DataFrame(cursor.execute('''\n",
    "select  p.os as os,\n",
    "        p.country,\n",
    "        p.date,\n",
    "        strftime('%m', p.date) as month,\n",
    "        strftime('%d', p.date) as day,\n",
    "        app_revenue,\n",
    "        coalesce(spend, 0),\n",
    "        impressions,\n",
    "        clicks,\n",
    "        installs,\n",
    "        purchases,\n",
    "        unique_purchases\n",
    "        \n",
    "from payments p\n",
    "left join spent s on s.os = p.os and s.date = p.date and s.country = p.country\n",
    "where cast(JulianDay(p.ts) - JulianDay(p.date) as integer) = 28''').fetchall())\n",
    "\n",
    "# Переименовываем столбцы \n",
    "data.columns = ['os', \n",
    "                'country', \n",
    "                'date', \n",
    "                'month', \n",
    "                'day', \n",
    "                'revenue', \n",
    "                'spend', \n",
    "                'impressions', \n",
    "                'clicks', \n",
    "                'installs', \n",
    "                'purchases', \n",
    "                'unique_purchases']"
   ]
  },
  {
   "cell_type": "code",
   "execution_count": 17,
   "metadata": {},
   "outputs": [
    {
     "name": "stdout",
     "output_type": "stream",
     "text": [
      "stage               abs / % of impressions / % of previous\n",
      "----------------------------------------------------------\n",
      "Impressions:   14561052 /          100.00% /\n",
      "Clicks ~ CTR:    251172 /            1.72% /\n",
      "Installs ~ CR:    84876 /            0.58% /       33.79%\n",
      "Paying users:      2480 /            0.02% /        2.92%\n",
      "Purchases:        15462 /            0.11% /      623.47%\n"
     ]
    }
   ],
   "source": [
    "# Построим воронку по полному набору данных с разделением на 3 показателя: натуральные значения, % от impressions и % от предыдущего этапа воронки\n",
    "\n",
    "print(f\"stage {'abs':>17} / {'% of impressions':>0} / {'% of previous':>5}\")\n",
    "print(f\"-\" * 58)\n",
    "print(f\"Impressions: {data['impressions'].sum():>10.0f} / {data['impressions'].sum() / data['impressions'].sum():>16.2%} /\")\n",
    "print(f\"Clicks ~ CTR: {data['clicks'].sum():>9.0f} / {data['clicks'].sum() / data['impressions'].sum():>16.2%} /\")\n",
    "print(f\"Installs ~ CR: {data['installs'].sum():>8.0f} / {data['installs'].sum() / data['impressions'].sum():>16.2%} / {data['installs'].sum() / data['clicks'].sum():>12.2%}\")\n",
    "print(f\"Paying users: {data['unique_purchases'].sum():>9.0f} / {data['unique_purchases'].sum() / data['impressions'].sum():>16.2%} / {data['unique_purchases'].sum() / data['installs'].sum():>12.2%}\")\n",
    "print(f\"Purchases: {data['purchases'].sum():>12.0f} / {data['purchases'].sum() / data['impressions'].sum():>16.2%} / {data['purchases'].sum() / data['unique_purchases'].sum():>12.2%}\")"
   ]
  },
  {
   "cell_type": "markdown",
   "metadata": {},
   "source": [
    "В среднем 1,72% человек переходят по рекламной ссылке, из них 33,79% (0,58% от видевших рекламу) устанавливают приложение. Покупки внутри приложения совершают 2,92% от количества людей, установивших приложение или 0,02% от увидевших рекламу. В среднем на одного активного \"покупателя\" приходится 6,235 покупок, таким образом количество продаж в приложении составляет 0,11% от показов рекламы."
   ]
  },
  {
   "cell_type": "code",
   "execution_count": 18,
   "metadata": {},
   "outputs": [
    {
     "data": {
      "text/html": [
       "<div>\n",
       "<style scoped>\n",
       "    .dataframe tbody tr th:only-of-type {\n",
       "        vertical-align: middle;\n",
       "    }\n",
       "\n",
       "    .dataframe tbody tr th {\n",
       "        vertical-align: top;\n",
       "    }\n",
       "\n",
       "    .dataframe thead th {\n",
       "        text-align: right;\n",
       "    }\n",
       "</style>\n",
       "<table border=\"1\" class=\"dataframe\">\n",
       "  <thead>\n",
       "    <tr style=\"text-align: right;\">\n",
       "      <th></th>\n",
       "      <th></th>\n",
       "      <th></th>\n",
       "      <th>revenue</th>\n",
       "      <th>spend</th>\n",
       "      <th>impressions</th>\n",
       "      <th>clicks</th>\n",
       "      <th>installs</th>\n",
       "      <th>purchases</th>\n",
       "      <th>unique_purchases</th>\n",
       "    </tr>\n",
       "    <tr>\n",
       "      <th>country</th>\n",
       "      <th>os</th>\n",
       "      <th>date</th>\n",
       "      <th></th>\n",
       "      <th></th>\n",
       "      <th></th>\n",
       "      <th></th>\n",
       "      <th></th>\n",
       "      <th></th>\n",
       "      <th></th>\n",
       "    </tr>\n",
       "  </thead>\n",
       "  <tbody>\n",
       "    <tr>\n",
       "      <th rowspan=\"2\" valign=\"top\">BR</th>\n",
       "      <th>android</th>\n",
       "      <th>2020-06-20</th>\n",
       "      <td>3.94422</td>\n",
       "      <td>0.0</td>\n",
       "      <td>0.0</td>\n",
       "      <td>0.0</td>\n",
       "      <td>0.0</td>\n",
       "      <td>3</td>\n",
       "      <td>1</td>\n",
       "    </tr>\n",
       "    <tr>\n",
       "      <th>ios</th>\n",
       "      <th>2020-06-15</th>\n",
       "      <td>14.40160</td>\n",
       "      <td>0.0</td>\n",
       "      <td>0.0</td>\n",
       "      <td>0.0</td>\n",
       "      <td>0.0</td>\n",
       "      <td>6</td>\n",
       "      <td>1</td>\n",
       "    </tr>\n",
       "    <tr>\n",
       "      <th>CA</th>\n",
       "      <th>ios</th>\n",
       "      <th>2020-06-16</th>\n",
       "      <td>40.68060</td>\n",
       "      <td>0.0</td>\n",
       "      <td>0.0</td>\n",
       "      <td>0.0</td>\n",
       "      <td>0.0</td>\n",
       "      <td>14</td>\n",
       "      <td>1</td>\n",
       "    </tr>\n",
       "    <tr>\n",
       "      <th>DE</th>\n",
       "      <th>ios</th>\n",
       "      <th>2020-06-15</th>\n",
       "      <td>1.22404</td>\n",
       "      <td>0.0</td>\n",
       "      <td>0.0</td>\n",
       "      <td>0.0</td>\n",
       "      <td>0.0</td>\n",
       "      <td>1</td>\n",
       "      <td>1</td>\n",
       "    </tr>\n",
       "    <tr>\n",
       "      <th>GR</th>\n",
       "      <th>android</th>\n",
       "      <th>2020-06-15</th>\n",
       "      <td>12.35550</td>\n",
       "      <td>0.0</td>\n",
       "      <td>0.0</td>\n",
       "      <td>0.0</td>\n",
       "      <td>0.0</td>\n",
       "      <td>2</td>\n",
       "      <td>1</td>\n",
       "    </tr>\n",
       "  </tbody>\n",
       "</table>\n",
       "</div>"
      ],
      "text/plain": [
       "                             revenue  spend  impressions  clicks  installs  \\\n",
       "country os      date                                                         \n",
       "BR      android 2020-06-20   3.94422    0.0          0.0     0.0       0.0   \n",
       "        ios     2020-06-15  14.40160    0.0          0.0     0.0       0.0   \n",
       "CA      ios     2020-06-16  40.68060    0.0          0.0     0.0       0.0   \n",
       "DE      ios     2020-06-15   1.22404    0.0          0.0     0.0       0.0   \n",
       "GR      android 2020-06-15  12.35550    0.0          0.0     0.0       0.0   \n",
       "\n",
       "                            purchases  unique_purchases  \n",
       "country os      date                                     \n",
       "BR      android 2020-06-20          3                 1  \n",
       "        ios     2020-06-15          6                 1  \n",
       "CA      ios     2020-06-16         14                 1  \n",
       "DE      ios     2020-06-15          1                 1  \n",
       "GR      android 2020-06-15          2                 1  "
      ]
     },
     "execution_count": 18,
     "metadata": {},
     "output_type": "execute_result"
    }
   ],
   "source": [
    "# Для сегментации перегруппируем датафрейм, выделив в индекс когорты: платформа, страна и дата\n",
    "segments = data.groupby(['country', 'os', 'date']).sum()\n",
    "\n",
    "# Подозрительные данные, в которых отсутствует информация из таблицы 'spent'\n",
    "mask = (segments['revenue'] > 0) & (segments['spend'] == 0)\n",
    "segments[mask].head()"
   ]
  },
  {
   "cell_type": "code",
   "execution_count": 19,
   "metadata": {},
   "outputs": [
    {
     "name": "stdout",
     "output_type": "stream",
     "text": [
      "                 revenue  spend  impressions  clicks  installs  purchases  \\\n",
      "country os                                                                  \n",
      "AI      android      0.0    0.0          0.0     0.0       0.0          0   \n",
      "BT      android      0.0    0.0          0.0     0.0       0.0          0   \n",
      "CU      android      0.0    0.0          0.0     0.0       0.0          0   \n",
      "FM      android      0.0    0.0          0.0     0.0       0.0          0   \n",
      "GM      android      0.0    0.0          0.0     0.0       0.0          0   \n",
      "HT      android      0.0    0.0          0.0     0.0       0.0          0   \n",
      "IR      android      0.0    0.0          0.0     0.0       0.0          0   \n",
      "        ios          0.0    0.0          0.0     0.0       0.0          0   \n",
      "KN      android      0.0    0.0          0.0     0.0       0.0          0   \n",
      "MW      android      0.0    0.0          0.0     0.0       0.0          0   \n",
      "        ios          0.0    0.0          0.0     0.0       0.0          0   \n",
      "SD      android      0.0    0.0          0.0     0.0       0.0          0   \n",
      "SY      ios          0.0    0.0          0.0     0.0       0.0          0   \n",
      "TL      android      0.0    0.0          0.0     0.0       0.0          0   \n",
      "ZW      android      0.0    0.0          0.0     0.0       0.0          0   \n",
      "\n",
      "                 unique_purchases  roas_28d  \n",
      "country os                                   \n",
      "AI      android                 0       NaN  \n",
      "BT      android                 0       NaN  \n",
      "CU      android                 0       NaN  \n",
      "FM      android                 0       NaN  \n",
      "GM      android                 0       NaN  \n",
      "HT      android                 0       NaN  \n",
      "IR      android                 0       NaN  \n",
      "        ios                     0       NaN  \n",
      "KN      android                 0       NaN  \n",
      "MW      android                 0       NaN  \n",
      "        ios                     0       NaN  \n",
      "SD      android                 0       NaN  \n",
      "SY      ios                     0       NaN  \n",
      "TL      android                 0       NaN  \n",
      "ZW      android                 0       NaN  \n"
     ]
    }
   ],
   "source": [
    "# Исключим их и перегруппируем датафрейм для сегментации без дат\n",
    "segments = segments[~mask]\n",
    "segments = segments.groupby(['country', 'os']).sum()\n",
    "\n",
    "# Посчитаем roas_28d для последующей аналитики\n",
    "segments['roas_28d'] = segments['revenue'] / segments['spend']\n",
    "\n",
    "# Проверим нулевые значения для образованного столбца\n",
    "print(segments[segments['roas_28d'].isna()])"
   ]
  },
  {
   "cell_type": "code",
   "execution_count": 20,
   "metadata": {},
   "outputs": [
    {
     "data": {
      "text/plain": [
       "0.0    15\n",
       "Name: revenue, dtype: int64"
      ]
     },
     "execution_count": 20,
     "metadata": {},
     "output_type": "execute_result"
    }
   ],
   "source": [
    "# Проверим какие значения revenue соответствуют нулевым значениям roas_28d\n",
    "segments[segments['roas_28d'].isna()]['revenue'].value_counts()"
   ]
  },
  {
   "cell_type": "markdown",
   "metadata": {},
   "source": [
    "Так как отличных от нуля значений показателя доходности в нулевых столбцах roas_28d нет, можно оставить всё как есть."
   ]
  },
  {
   "cell_type": "markdown",
   "metadata": {},
   "source": [
    "### Сегментация пользователей\n",
    "1) Сегменты, которые имеют хорошие показатели и могут масштабироваться: roas_28d >= 1.2"
   ]
  },
  {
   "cell_type": "code",
   "execution_count": 21,
   "metadata": {},
   "outputs": [
    {
     "name": "stdout",
     "output_type": "stream",
     "text": [
      "Верх списка лучшего сегмента:\n",
      " [('AE', 'ios'), ('AS', 'android'), ('AU', 'android'), ('AU', 'ios'), ('AZ', 'android')]\n",
      "\n",
      "Среднее значение roas_28d для этого сегмента: 1.7289\n",
      "Размер этого сегмента: 8689 человек\n"
     ]
    }
   ],
   "source": [
    "# Выделим лучший сегмент в отдельную переменную\n",
    "top_segment = segments[segments['roas_28d'] >= 1.2]\n",
    "\n",
    "print('Верх списка лучшего сегмента:\\n', top_segment.index.to_list()[:5])\n",
    "print()\n",
    "print(f\"Среднее значение roas_28d для этого сегмента: {top_segment['revenue'].sum() / top_segment['spend'].sum():.4f}\")\n",
    "print(f\"Размер этого сегмента: {top_segment['installs'].sum():.0f} человек\")"
   ]
  },
  {
   "cell_type": "markdown",
   "metadata": {},
   "source": [
    "2) Наименее перспективный сегмент (не было покупок за время отслеживания результатов)\n",
    "\n",
    "\n"
   ]
  },
  {
   "cell_type": "code",
   "execution_count": 22,
   "metadata": {},
   "outputs": [
    {
     "name": "stdout",
     "output_type": "stream",
     "text": [
      "Верх списка худшего сегмента:\n",
      " [('AD', 'android'), ('AF', 'android'), ('AF', 'ios'), ('AG', 'android'), ('AL', 'android')]\n",
      "\n",
      "Размер этого сегмента: 2588 человек\n"
     ]
    }
   ],
   "source": [
    "# Скорее всего безнадежны и на них не стоит тратить бюджеты\n",
    "low_segment = segments[segments['roas_28d'] == 0]\n",
    "\n",
    "print('Верх списка худшего сегмента:\\n', low_segment.index.to_list()[:5])\n",
    "print()\n",
    "print(f\"Размер этого сегмента: {low_segment['installs'].sum():.0f} человек\")"
   ]
  },
  {
   "cell_type": "markdown",
   "metadata": {},
   "source": [
    "3) \"Серые сегменты\"\n",
    "\n",
    "Для среднего сегмента я предлагаю также использовать CR (конверсию показов в установки приложения), так этот сегмент дополнительно разделится на 2: в одном будут группы, где люди лучше среднего отреагировали на рекламу, в другом, соответственно, на уровне среднего и хуже. Такое разделение позволит сделать дополнительный вывод по самой рекламе, обходя предложения по увеличению ROAS за счёт акций внутри приложения."
   ]
  },
  {
   "cell_type": "code",
   "execution_count": 23,
   "metadata": {},
   "outputs": [],
   "source": [
    "# Сделаем булеву маску, с помощью которой будем сравнивать CR сегменты со средними значениями по выборке.\n",
    "mask = (segments['installs'] / segments['impressions'] > data['installs'].sum() / data['impressions'].sum())"
   ]
  },
  {
   "cell_type": "code",
   "execution_count": 24,
   "metadata": {},
   "outputs": [
    {
     "data": {
      "text/plain": [
       "0.7766056869794397"
      ]
     },
     "execution_count": 24,
     "metadata": {},
     "output_type": "execute_result"
    }
   ],
   "source": [
    "# Среднее значение ROAS среднего сегмента без использования маски CR\n",
    "segment_x = segments[(segments['roas_28d'] > 0) & (segments['roas_28d'] < 1.2)]\n",
    "segment_x['revenue'].sum() / segment_x['spend'].sum()"
   ]
  },
  {
   "cell_type": "code",
   "execution_count": 25,
   "metadata": {},
   "outputs": [
    {
     "name": "stdout",
     "output_type": "stream",
     "text": [
      "Размер этого сегмента: 33494 человека\n",
      "Средний roas_28d внутри сегмента: 0.8114\n",
      "\n",
      "stage               abs / % of impressions / % of previous\n",
      "----------------------------------------------------------\n",
      "Impressions:    8250770 /          100.00% /\n",
      "Clicks ~ CTR:    105406 /            1.28% /\n",
      "Installs ~ CR:    33494 /            0.41% /       31.78%\n",
      "Paying users:      1622 /            0.02% /        4.84%\n",
      "Purchases:         9965 /            0.12% /      614.36%\n"
     ]
    }
   ],
   "source": [
    "# Построим воронку для нижнего-среднего сегмента\n",
    "low_mid_segment = segments[(segments['roas_28d'] > 0) & (segments['roas_28d'] < 1.2) & ~mask]\n",
    "print(f\"Размер этого сегмента: {low_mid_segment['installs'].sum():.0f} человека\")\n",
    "print(f\"Средний roas_28d внутри сегмента: {low_mid_segment['revenue'].sum() / low_mid_segment['spend'].sum():.4f}\")\n",
    "print()\n",
    "\n",
    "print(f\"stage {'abs':>17} / {'% of impressions':>0} / {'% of previous':>5}\")\n",
    "print(f\"-\" * 58)\n",
    "print(f\"Impressions: {low_mid_segment['impressions'].sum():>10.0f} / {low_mid_segment['impressions'].sum() / low_mid_segment['impressions'].sum():>16.2%} /\")\n",
    "print(f\"Clicks ~ CTR: {low_mid_segment['clicks'].sum():>9.0f} / {low_mid_segment['clicks'].sum() / low_mid_segment['impressions'].sum():>16.2%} /\")\n",
    "print(f\"Installs ~ CR: {low_mid_segment['installs'].sum():>8.0f} / {low_mid_segment['installs'].sum() / low_mid_segment['impressions'].sum():>16.2%} / {low_mid_segment['installs'].sum() / low_mid_segment['clicks'].sum():>12.2%}\")\n",
    "print(f\"Paying users: {low_mid_segment['unique_purchases'].sum():>9.0f} / {low_mid_segment['unique_purchases'].sum() / low_mid_segment['impressions'].sum():>16.2%} / {low_mid_segment['unique_purchases'].sum() / low_mid_segment['installs'].sum():>12.2%}\")\n",
    "print(f\"Purchases: {low_mid_segment['purchases'].sum():>12.0f} / {low_mid_segment['purchases'].sum() / low_mid_segment['impressions'].sum():>16.2%} / {low_mid_segment['purchases'].sum() / low_mid_segment['unique_purchases'].sum():>12.2%}\")"
   ]
  },
  {
   "cell_type": "code",
   "execution_count": 26,
   "metadata": {},
   "outputs": [
    {
     "name": "stdout",
     "output_type": "stream",
     "text": [
      "В среднем покупка в приложении приносит: 3.61, а покупающий пользователь: 22.50 \n",
      "В этом сегменте покупка в приложении приносит: 3.76, а покупающий пользователь: 23.07 \n"
     ]
    }
   ],
   "source": [
    "# Как платят пользователи сегмента относительно среднего\n",
    "print(f\"В среднем покупка в приложении приносит: {data['revenue'].sum() / data['purchases'].sum():.2f}, а покупающий пользователь: {data['revenue'].sum() / data['unique_purchases'].sum():.2f} \")\n",
    "print(f\"В этом сегменте покупка в приложении приносит: {low_mid_segment['revenue'].sum() / low_mid_segment['purchases'].sum():.2f}, а покупающий пользователь: {low_mid_segment['revenue'].sum() / low_mid_segment['unique_purchases'].sum():.2f} \")"
   ]
  },
  {
   "cell_type": "markdown",
   "metadata": {},
   "source": [
    "Люди в этом сегменте хуже восприняли рекламу или само приложение - CR меньше на 40% относительно среднего по выборке, при этом процент установок после переходов по рекламной ссылке также ниже среднего. Но в этом сегменте в 1,6 раза больше пользователей, совершающих покупки внутри приложения, хоть и меньшее их количество. Относительно стоимости покупок - она сопоставима со средней по всей выборке.\n",
    "\n",
    "Так как реклама отозвалась хуже среднего и в среднем пользователи совершают меньше покупок можно предположить, что для увеличения окупаемости внутри этого сегмента следует протестировать изменённую рекламу. \n",
    "\n",
    "Меньшее количество покупок и стоимость на уровне средней по выборке говорит о том, что акции направленные на пакетные предложения, абонементы может привести к увеличению дохода."
   ]
  },
  {
   "cell_type": "code",
   "execution_count": 27,
   "metadata": {},
   "outputs": [
    {
     "name": "stdout",
     "output_type": "stream",
     "text": [
      "Размер этого сегмента: 40105 человек\n",
      "Средний roas_28d внутри сегмента: 0.5963\n",
      "\n",
      "stage               abs / % of impressions / % of previous\n",
      "----------------------------------------------------------\n",
      "Impressions:    4176054 /          100.00% /\n",
      "Clicks ~ CTR:    110193 /            2.64% /\n",
      "Installs ~ CR:    40105 /            0.96% /       36.40%\n",
      "Paying users:       469 /            0.01% /        1.17%\n",
      "Purchases:         2045 /            0.05% /      436.03%\n"
     ]
    }
   ],
   "source": [
    "# Построим воронку для верхнего-среднего сегмента\n",
    "top_mid_segment = segments[(segments['roas_28d'] > 0) & (segments['roas_28d'] < 1.2) & mask]\n",
    "print(f\"Размер этого сегмента: {top_mid_segment['installs'].sum():.0f} человек\")\n",
    "print(f\"Средний roas_28d внутри сегмента: {top_mid_segment['revenue'].sum() / top_mid_segment['spend'].sum():.4f}\")\n",
    "print()\n",
    "\n",
    "print(f\"stage {'abs':>17} / {'% of impressions':>0} / {'% of previous':>5}\")\n",
    "print(f\"-\" * 58)\n",
    "print(f\"Impressions: {top_mid_segment['impressions'].sum():>10.0f} / {top_mid_segment['impressions'].sum() / top_mid_segment['impressions'].sum():>16.2%} /\")\n",
    "print(f\"Clicks ~ CTR: {top_mid_segment['clicks'].sum():>9.0f} / {top_mid_segment['clicks'].sum() / top_mid_segment['impressions'].sum():>16.2%} /\")\n",
    "print(f\"Installs ~ CR: {top_mid_segment['installs'].sum():>8.0f} / {top_mid_segment['installs'].sum() / top_mid_segment['impressions'].sum():>16.2%} / {top_mid_segment['installs'].sum() / top_mid_segment['clicks'].sum():>12.2%}\")\n",
    "print(f\"Paying users: {top_mid_segment['unique_purchases'].sum():>9.0f} / {top_mid_segment['unique_purchases'].sum() / top_mid_segment['impressions'].sum():>16.2%} / {top_mid_segment['unique_purchases'].sum() / top_mid_segment['installs'].sum():>12.2%}\")\n",
    "print(f\"Purchases: {top_mid_segment['purchases'].sum():>12.0f} / {top_mid_segment['purchases'].sum() / top_mid_segment['impressions'].sum():>16.2%} / {top_mid_segment['purchases'].sum() / top_mid_segment['unique_purchases'].sum():>12.2%}\")"
   ]
  },
  {
   "cell_type": "code",
   "execution_count": 28,
   "metadata": {},
   "outputs": [
    {
     "name": "stdout",
     "output_type": "stream",
     "text": [
      "В среднем покупка в приложении приносит: 3.61, а покупающий пользователь: 22.50 \n",
      "В этом сегменте покупка в приложении приносит: 2.60, а покупающий пользователь: 11.33 \n"
     ]
    }
   ],
   "source": [
    "# Как платят пользователи сегмента относительно среднего\n",
    "print(f\"В среднем покупка в приложении приносит: {data['revenue'].sum() / data['purchases'].sum():.2f}, а покупающий пользователь: {data['revenue'].sum() / data['unique_purchases'].sum():.2f} \")\n",
    "print(f\"В этом сегменте покупка в приложении приносит: {top_mid_segment['revenue'].sum() / top_mid_segment['purchases'].sum():.2f}, а покупающий пользователь: {top_mid_segment['revenue'].sum() / top_mid_segment['unique_purchases'].sum():.2f} \")"
   ]
  },
  {
   "cell_type": "markdown",
   "metadata": {},
   "source": [
    "Люди внутри этого сегмента лучше среднего восприняли рекламу, однако они совершают меньше покупок и на меньшие суммы. Для предложений по этому сегменту, к сожалению, необходим более глубокий анализ."
   ]
  },
  {
   "cell_type": "markdown",
   "metadata": {},
   "source": [
    "Как итог, отделу по закупке трафика, я бы рекомендовал однозначно закупать трафик в сегменте `top_segment`, в зависимости от необходимого количества использовать пары страна-платформа из `low_mid_segment` и лишь потом `top_mid_segment`.\n",
    "А также протестировать альтернативную рекламу на сегменте `low_mid_segment`."
   ]
  }
 ],
 "metadata": {
  "kernelspec": {
   "display_name": "Python 3",
   "language": "python",
   "name": "python3"
  },
  "language_info": {
   "codemirror_mode": {
    "name": "ipython",
    "version": 3
   },
   "file_extension": ".py",
   "mimetype": "text/x-python",
   "name": "python",
   "nbconvert_exporter": "python",
   "pygments_lexer": "ipython3",
   "version": "3.7.9"
  }
 },
 "nbformat": 4,
 "nbformat_minor": 4
}
